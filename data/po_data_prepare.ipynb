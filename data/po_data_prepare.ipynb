{
  "nbformat": 4,
  "nbformat_minor": 0,
  "metadata": {
    "colab": {
      "provenance": [],
      "toc_visible": true
    },
    "kernelspec": {
      "name": "python3",
      "display_name": "Python 3"
    },
    "language_info": {
      "name": "python"
    }
  },
  "cells": [
    {
      "cell_type": "code",
      "execution_count": null,
      "metadata": {
        "colab": {
          "base_uri": "https://localhost:8080/"
        },
        "id": "4p2JpiIlKDap",
        "outputId": "27515459-3551-4928-c750-d6648599962a"
      },
      "outputs": [
        {
          "output_type": "stream",
          "name": "stdout",
          "text": [
            "Warning: Looks like you're using an outdated `kagglehub` version (installed: 0.3.5), please consider upgrading to the latest version (0.3.6).\n",
            "Downloading from https://www.kaggle.com/api/v1/datasets/download/datafiniti/consumer-reviews-of-amazon-products?dataset_version_number=5...\n"
          ]
        },
        {
          "output_type": "stream",
          "name": "stderr",
          "text": [
            "100%|██████████| 16.3M/16.3M [00:00<00:00, 71.7MB/s]"
          ]
        },
        {
          "output_type": "stream",
          "name": "stdout",
          "text": [
            "Extracting files...\n"
          ]
        },
        {
          "output_type": "stream",
          "name": "stderr",
          "text": [
            "\n"
          ]
        },
        {
          "output_type": "stream",
          "name": "stdout",
          "text": [
            "Path to dataset files: /root/.cache/kagglehub/datasets/datafiniti/consumer-reviews-of-amazon-products/versions/5\n"
          ]
        }
      ],
      "source": [
        "import kagglehub\n",
        "\n",
        "# Download latest version\n",
        "path = kagglehub.dataset_download(\"datafiniti/consumer-reviews-of-amazon-products\")\n",
        "\n",
        "print(\"Path to dataset files:\", path)"
      ]
    },
    {
      "cell_type": "code",
      "source": [
        "import pandas as pd\n",
        "import os\n",
        "import seaborn as sns"
      ],
      "metadata": {
        "id": "pLorhbSpKYdz"
      },
      "execution_count": null,
      "outputs": []
    },
    {
      "cell_type": "code",
      "source": [
        "os.listdir(\"/root/.cache/kagglehub/datasets/datafiniti/consumer-reviews-of-amazon-products/versions/5\")"
      ],
      "metadata": {
        "colab": {
          "base_uri": "https://localhost:8080/"
        },
        "id": "dmWpL0yzKPXd",
        "outputId": "7cb2ac26-f53e-45d1-c6b8-574006b6efd8"
      },
      "execution_count": null,
      "outputs": [
        {
          "output_type": "execute_result",
          "data": {
            "text/plain": [
              "['1429_1.csv',\n",
              " 'Datafiniti_Amazon_Consumer_Reviews_of_Amazon_Products.csv',\n",
              " 'Datafiniti_Amazon_Consumer_Reviews_of_Amazon_Products_May19.csv']"
            ]
          },
          "metadata": {},
          "execution_count": 3
        }
      ]
    },
    {
      "cell_type": "code",
      "source": [
        "data = pd.concat(\n",
        "    [\n",
        "      pd.read_csv(os.path.join(path, \"Datafiniti_Amazon_Consumer_Reviews_of_Amazon_Products_May19.csv\")),\n",
        "      pd.read_csv(os.path.join(path, \"Datafiniti_Amazon_Consumer_Reviews_of_Amazon_Products.csv\")),\n",
        "      pd.read_csv(os.path.join(path, \"1429_1.csv\"))\n",
        "    ]\n",
        ")"
      ],
      "metadata": {
        "colab": {
          "base_uri": "https://localhost:8080/"
        },
        "id": "Z-2BAqiyKTLQ",
        "outputId": "955ee826-0918-49e8-eff3-9a0937ea6a60"
      },
      "execution_count": null,
      "outputs": [
        {
          "output_type": "stream",
          "name": "stderr",
          "text": [
            "<ipython-input-4-39b007442c8f>:5: DtypeWarning: Columns (1,10) have mixed types. Specify dtype option on import or set low_memory=False.\n",
            "  pd.read_csv(os.path.join(path, \"1429_1.csv\"))\n"
          ]
        }
      ]
    },
    {
      "cell_type": "code",
      "source": [
        "data = data[['id', 'name', 'reviews.doRecommend','reviews.rating', 'reviews.text']]"
      ],
      "metadata": {
        "id": "ijuUy2RLM_Rt"
      },
      "execution_count": null,
      "outputs": []
    },
    {
      "cell_type": "code",
      "source": [
        "len(data), len(data.drop_duplicates())"
      ],
      "metadata": {
        "colab": {
          "base_uri": "https://localhost:8080/"
        },
        "id": "-ZxpDPM2NkM7",
        "outputId": "8a2972dd-17b4-4f7e-c4f3-8962a475e0f5"
      },
      "execution_count": null,
      "outputs": [
        {
          "output_type": "execute_result",
          "data": {
            "text/plain": [
              "(67992, 64303)"
            ]
          },
          "metadata": {},
          "execution_count": 6
        }
      ]
    },
    {
      "cell_type": "code",
      "source": [
        "data = data.drop_duplicates()"
      ],
      "metadata": {
        "id": "t37mwUq2NpVV"
      },
      "execution_count": null,
      "outputs": []
    },
    {
      "cell_type": "code",
      "source": [
        "data = data[(data['name'].isna()==False) & (data['reviews.rating'].isna()==False) & (data['reviews.text'].isna()==False)]"
      ],
      "metadata": {
        "id": "RRyLP9zIS8Hp"
      },
      "execution_count": null,
      "outputs": []
    },
    {
      "cell_type": "code",
      "source": [
        "data.reset_index(inplace=True, drop=True)"
      ],
      "metadata": {
        "id": "gbLVOYCXNykc"
      },
      "execution_count": null,
      "outputs": []
    },
    {
      "cell_type": "code",
      "source": [
        "def split_reviews_by_rating(df):\n",
        "    result = {}\n",
        "    for product_id, group in df.groupby('id'):\n",
        "        low_rating_reviews = group[group['reviews.rating'] < 3]['reviews.text'].tolist()\n",
        "        high_rating_reviews = group[group['reviews.rating'] > 3]['reviews.text'].tolist()\n",
        "        result[product_id] = {\n",
        "            'name': group['name'].iloc[0],\n",
        "            'low_rating_reviews': low_rating_reviews,\n",
        "            'high_rating_reviews': high_rating_reviews\n",
        "        }\n",
        "    return result\n",
        "\n",
        "reviews_by_product = split_reviews_by_rating(data)"
      ],
      "metadata": {
        "id": "uMHlpgaKN8oJ"
      },
      "execution_count": null,
      "outputs": []
    },
    {
      "cell_type": "code",
      "source": [],
      "metadata": {
        "id": "lAnIbNzdevqw"
      },
      "execution_count": null,
      "outputs": []
    },
    {
      "cell_type": "markdown",
      "source": [
        "# Dpo data gen"
      ],
      "metadata": {
        "id": "Ub6TLyR6gf2D"
      }
    },
    {
      "cell_type": "code",
      "source": [
        "exclude = [k for k, p in reviews_by_product.items() if len(p[\"low_rating_reviews\"])<28]"
      ],
      "metadata": {
        "id": "t-u0ET-teapc"
      },
      "execution_count": null,
      "outputs": []
    },
    {
      "cell_type": "code",
      "source": [
        "sum([len(p[\"low_rating_reviews\"]) for k, p in reviews_by_product.items()]) / len([len(p[\"low_rating_reviews\"]) for k, p in reviews_by_product.items()])"
      ],
      "metadata": {
        "colab": {
          "base_uri": "https://localhost:8080/"
        },
        "id": "EnEu91DAkCdh",
        "outputId": "4af931ce-0fc5-4b0b-a85b-7b77c7b709b6"
      },
      "execution_count": null,
      "outputs": [
        {
          "output_type": "execute_result",
          "data": {
            "text/plain": [
              "28.19753086419753"
            ]
          },
          "metadata": {},
          "execution_count": 111
        }
      ]
    },
    {
      "cell_type": "code",
      "source": [
        "all_pairs_by_product = {}\n",
        "for product in reviews_by_product.keys():\n",
        "  if product not in exclude:\n",
        "    all_pairs_by_product[reviews_by_product[product]['name']] = []\n",
        "    j = 0\n",
        "    for pos_review in reviews_by_product[product]['high_rating_reviews']:\n",
        "        all_pairs_by_product[reviews_by_product[product]['name']].append([reviews_by_product[product]['low_rating_reviews'][j], pos_review])\n",
        "        j = (j + 1) % len(reviews_by_product[product]['low_rating_reviews'])"
      ],
      "metadata": {
        "id": "QH8-E_W6bBLJ"
      },
      "execution_count": null,
      "outputs": []
    },
    {
      "cell_type": "code",
      "source": [
        "{p['name']: len(p[\"low_rating_reviews\"]) for p in reviews_by_product.values()}[\"All-New Kindle Oasis E-reader - 7 High-Resolution Display (300 ppi), Waterproof, Built-In Audible, 8 GB, Wi-Fi - Includes Special Offers\"]"
      ],
      "metadata": {
        "colab": {
          "base_uri": "https://localhost:8080/"
        },
        "id": "qTW-v-8Fdw_Q",
        "outputId": "2fa5ff32-7dda-45fc-a296-777e4cb8ef23"
      },
      "execution_count": null,
      "outputs": [
        {
          "output_type": "execute_result",
          "data": {
            "text/plain": [
              "1"
            ]
          },
          "metadata": {},
          "execution_count": 113
        }
      ]
    },
    {
      "cell_type": "code",
      "source": [
        "dpo_data = []\n",
        "for k, v in all_pairs_by_product.items():\n",
        "  df = pd.DataFrame({\n",
        "      \"name\": k,\n",
        "      \"items\":v\n",
        "  })\n",
        "  dpo_data.append(df)"
      ],
      "metadata": {
        "id": "s7-YkrSagD-e"
      },
      "execution_count": null,
      "outputs": []
    },
    {
      "cell_type": "code",
      "source": [
        "dpo_data = pd.concat(dpo_data)"
      ],
      "metadata": {
        "id": "kPFK2hykgcXv"
      },
      "execution_count": null,
      "outputs": []
    },
    {
      "cell_type": "code",
      "source": [
        "dpo_data['prompt'] = dpo_data['name'].apply(lambda x: [{\n",
        "    \"content\": \"Write a negative review on product with name \" + x,\n",
        "    \"role\": \"user\"\n",
        "}])"
      ],
      "metadata": {
        "id": "8Aimh2TignIc"
      },
      "execution_count": null,
      "outputs": []
    },
    {
      "cell_type": "code",
      "source": [
        "dpo_data['completion'] = dpo_data['items'].apply( lambda x:\n",
        "    {\n",
        "        \"chosen\": [{\n",
        "    \"content\": x[0],\n",
        "    \"role\": \"assistant\"\n",
        "}],\n",
        "         \"rejected\": [{\n",
        "    \"content\": x[1],\n",
        "    \"role\": \"assistant\"\n",
        "}]\n",
        "    }\n",
        ")"
      ],
      "metadata": {
        "id": "Onr9ZZpPgyMr"
      },
      "execution_count": null,
      "outputs": []
    },
    {
      "cell_type": "code",
      "source": [
        "len(dpo_data)"
      ],
      "metadata": {
        "colab": {
          "base_uri": "https://localhost:8080/"
        },
        "id": "TN5oKFeXj2JH",
        "outputId": "4ba09274-500a-4713-da9d-97ac52eabfa0"
      },
      "execution_count": null,
      "outputs": [
        {
          "output_type": "execute_result",
          "data": {
            "text/plain": [
              "45171"
            ]
          },
          "metadata": {},
          "execution_count": 118
        }
      ]
    },
    {
      "cell_type": "code",
      "source": [
        "dpo_data[['prompt', 'completion']].to_csv(\"dpo_dataset.csv\", index=False)"
      ],
      "metadata": {
        "id": "5eghnq57hrNr"
      },
      "execution_count": null,
      "outputs": []
    },
    {
      "cell_type": "code",
      "source": [
        "dpo_data"
      ],
      "metadata": {
        "colab": {
          "base_uri": "https://localhost:8080/",
          "height": 597
        },
        "id": "guaE0tQkk5DK",
        "outputId": "1a35c4d6-6ae1-4360-f019-2c448a364e00"
      },
      "execution_count": null,
      "outputs": [
        {
          "output_type": "execute_result",
          "data": {
            "text/plain": [
              "                                                  name  \\\n",
              "0    Amazon Kindle Paperwhite - eBook reader - 4 GB...   \n",
              "1    Amazon Kindle Paperwhite - eBook reader - 4 GB...   \n",
              "2    Amazon Kindle Paperwhite - eBook reader - 4 GB...   \n",
              "3    Amazon Kindle Paperwhite - eBook reader - 4 GB...   \n",
              "4    Amazon Kindle Paperwhite - eBook reader - 4 GB...   \n",
              "..                                                 ...   \n",
              "339  Amazon 5W USB Official OEM Charger and Power A...   \n",
              "340  Amazon 5W USB Official OEM Charger and Power A...   \n",
              "341  Amazon 5W USB Official OEM Charger and Power A...   \n",
              "342  Amazon 5W USB Official OEM Charger and Power A...   \n",
              "343  Amazon 5W USB Official OEM Charger and Power A...   \n",
              "\n",
              "                                                 items  \\\n",
              "0    [Reading a book, it's great. Working with PDF ...   \n",
              "1    [I am really disappointed in this Kindle....I ...   \n",
              "2    [Paper white does not allow you do use books f...   \n",
              "3    [Tried to use it for and it's does not work as...   \n",
              "4    [Our daughter loves the size and portability o...   \n",
              "..                                                 ...   \n",
              "339  [Really expected a chord with it for the price...   \n",
              "340  [Not compatible with South African plug standa...   \n",
              "341  [It wasn't what I thought it was the price was...   \n",
              "342  [I had to buy it, what else is there to say., ...   \n",
              "343  [5 dollar AC to USB power adapter for 20 buck,...   \n",
              "\n",
              "                                                prompt  \\\n",
              "0    [{'content': 'Write a negative review on produ...   \n",
              "1    [{'content': 'Write a negative review on produ...   \n",
              "2    [{'content': 'Write a negative review on produ...   \n",
              "3    [{'content': 'Write a negative review on produ...   \n",
              "4    [{'content': 'Write a negative review on produ...   \n",
              "..                                                 ...   \n",
              "339  [{'content': 'Write a negative review on produ...   \n",
              "340  [{'content': 'Write a negative review on produ...   \n",
              "341  [{'content': 'Write a negative review on produ...   \n",
              "342  [{'content': 'Write a negative review on produ...   \n",
              "343  [{'content': 'Write a negative review on produ...   \n",
              "\n",
              "                                            completion  \n",
              "0    {'chosen': [{'content': 'Reading a book, it's ...  \n",
              "1    {'chosen': [{'content': 'I am really disappoin...  \n",
              "2    {'chosen': [{'content': 'Paper white does not ...  \n",
              "3    {'chosen': [{'content': 'Tried to use it for a...  \n",
              "4    {'chosen': [{'content': 'Our daughter loves th...  \n",
              "..                                                 ...  \n",
              "339  {'chosen': [{'content': 'Really expected a cho...  \n",
              "340  {'chosen': [{'content': 'Not compatible with S...  \n",
              "341  {'chosen': [{'content': 'It wasn't what I thou...  \n",
              "342  {'chosen': [{'content': 'I had to buy it, what...  \n",
              "343  {'chosen': [{'content': '5 dollar AC to USB po...  \n",
              "\n",
              "[45171 rows x 4 columns]"
            ],
            "text/html": [
              "\n",
              "  <div id=\"df-be09a935-0585-4718-ba6e-7987417136fb\" class=\"colab-df-container\">\n",
              "    <div>\n",
              "<style scoped>\n",
              "    .dataframe tbody tr th:only-of-type {\n",
              "        vertical-align: middle;\n",
              "    }\n",
              "\n",
              "    .dataframe tbody tr th {\n",
              "        vertical-align: top;\n",
              "    }\n",
              "\n",
              "    .dataframe thead th {\n",
              "        text-align: right;\n",
              "    }\n",
              "</style>\n",
              "<table border=\"1\" class=\"dataframe\">\n",
              "  <thead>\n",
              "    <tr style=\"text-align: right;\">\n",
              "      <th></th>\n",
              "      <th>name</th>\n",
              "      <th>items</th>\n",
              "      <th>prompt</th>\n",
              "      <th>completion</th>\n",
              "    </tr>\n",
              "  </thead>\n",
              "  <tbody>\n",
              "    <tr>\n",
              "      <th>0</th>\n",
              "      <td>Amazon Kindle Paperwhite - eBook reader - 4 GB...</td>\n",
              "      <td>[Reading a book, it's great. Working with PDF ...</td>\n",
              "      <td>[{'content': 'Write a negative review on produ...</td>\n",
              "      <td>{'chosen': [{'content': 'Reading a book, it's ...</td>\n",
              "    </tr>\n",
              "    <tr>\n",
              "      <th>1</th>\n",
              "      <td>Amazon Kindle Paperwhite - eBook reader - 4 GB...</td>\n",
              "      <td>[I am really disappointed in this Kindle....I ...</td>\n",
              "      <td>[{'content': 'Write a negative review on produ...</td>\n",
              "      <td>{'chosen': [{'content': 'I am really disappoin...</td>\n",
              "    </tr>\n",
              "    <tr>\n",
              "      <th>2</th>\n",
              "      <td>Amazon Kindle Paperwhite - eBook reader - 4 GB...</td>\n",
              "      <td>[Paper white does not allow you do use books f...</td>\n",
              "      <td>[{'content': 'Write a negative review on produ...</td>\n",
              "      <td>{'chosen': [{'content': 'Paper white does not ...</td>\n",
              "    </tr>\n",
              "    <tr>\n",
              "      <th>3</th>\n",
              "      <td>Amazon Kindle Paperwhite - eBook reader - 4 GB...</td>\n",
              "      <td>[Tried to use it for and it's does not work as...</td>\n",
              "      <td>[{'content': 'Write a negative review on produ...</td>\n",
              "      <td>{'chosen': [{'content': 'Tried to use it for a...</td>\n",
              "    </tr>\n",
              "    <tr>\n",
              "      <th>4</th>\n",
              "      <td>Amazon Kindle Paperwhite - eBook reader - 4 GB...</td>\n",
              "      <td>[Our daughter loves the size and portability o...</td>\n",
              "      <td>[{'content': 'Write a negative review on produ...</td>\n",
              "      <td>{'chosen': [{'content': 'Our daughter loves th...</td>\n",
              "    </tr>\n",
              "    <tr>\n",
              "      <th>...</th>\n",
              "      <td>...</td>\n",
              "      <td>...</td>\n",
              "      <td>...</td>\n",
              "      <td>...</td>\n",
              "    </tr>\n",
              "    <tr>\n",
              "      <th>339</th>\n",
              "      <td>Amazon 5W USB Official OEM Charger and Power A...</td>\n",
              "      <td>[Really expected a chord with it for the price...</td>\n",
              "      <td>[{'content': 'Write a negative review on produ...</td>\n",
              "      <td>{'chosen': [{'content': 'Really expected a cho...</td>\n",
              "    </tr>\n",
              "    <tr>\n",
              "      <th>340</th>\n",
              "      <td>Amazon 5W USB Official OEM Charger and Power A...</td>\n",
              "      <td>[Not compatible with South African plug standa...</td>\n",
              "      <td>[{'content': 'Write a negative review on produ...</td>\n",
              "      <td>{'chosen': [{'content': 'Not compatible with S...</td>\n",
              "    </tr>\n",
              "    <tr>\n",
              "      <th>341</th>\n",
              "      <td>Amazon 5W USB Official OEM Charger and Power A...</td>\n",
              "      <td>[It wasn't what I thought it was the price was...</td>\n",
              "      <td>[{'content': 'Write a negative review on produ...</td>\n",
              "      <td>{'chosen': [{'content': 'It wasn't what I thou...</td>\n",
              "    </tr>\n",
              "    <tr>\n",
              "      <th>342</th>\n",
              "      <td>Amazon 5W USB Official OEM Charger and Power A...</td>\n",
              "      <td>[I had to buy it, what else is there to say., ...</td>\n",
              "      <td>[{'content': 'Write a negative review on produ...</td>\n",
              "      <td>{'chosen': [{'content': 'I had to buy it, what...</td>\n",
              "    </tr>\n",
              "    <tr>\n",
              "      <th>343</th>\n",
              "      <td>Amazon 5W USB Official OEM Charger and Power A...</td>\n",
              "      <td>[5 dollar AC to USB power adapter for 20 buck,...</td>\n",
              "      <td>[{'content': 'Write a negative review on produ...</td>\n",
              "      <td>{'chosen': [{'content': '5 dollar AC to USB po...</td>\n",
              "    </tr>\n",
              "  </tbody>\n",
              "</table>\n",
              "<p>45171 rows × 4 columns</p>\n",
              "</div>\n",
              "    <div class=\"colab-df-buttons\">\n",
              "\n",
              "  <div class=\"colab-df-container\">\n",
              "    <button class=\"colab-df-convert\" onclick=\"convertToInteractive('df-be09a935-0585-4718-ba6e-7987417136fb')\"\n",
              "            title=\"Convert this dataframe to an interactive table.\"\n",
              "            style=\"display:none;\">\n",
              "\n",
              "  <svg xmlns=\"http://www.w3.org/2000/svg\" height=\"24px\" viewBox=\"0 -960 960 960\">\n",
              "    <path d=\"M120-120v-720h720v720H120Zm60-500h600v-160H180v160Zm220 220h160v-160H400v160Zm0 220h160v-160H400v160ZM180-400h160v-160H180v160Zm440 0h160v-160H620v160ZM180-180h160v-160H180v160Zm440 0h160v-160H620v160Z\"/>\n",
              "  </svg>\n",
              "    </button>\n",
              "\n",
              "  <style>\n",
              "    .colab-df-container {\n",
              "      display:flex;\n",
              "      gap: 12px;\n",
              "    }\n",
              "\n",
              "    .colab-df-convert {\n",
              "      background-color: #E8F0FE;\n",
              "      border: none;\n",
              "      border-radius: 50%;\n",
              "      cursor: pointer;\n",
              "      display: none;\n",
              "      fill: #1967D2;\n",
              "      height: 32px;\n",
              "      padding: 0 0 0 0;\n",
              "      width: 32px;\n",
              "    }\n",
              "\n",
              "    .colab-df-convert:hover {\n",
              "      background-color: #E2EBFA;\n",
              "      box-shadow: 0px 1px 2px rgba(60, 64, 67, 0.3), 0px 1px 3px 1px rgba(60, 64, 67, 0.15);\n",
              "      fill: #174EA6;\n",
              "    }\n",
              "\n",
              "    .colab-df-buttons div {\n",
              "      margin-bottom: 4px;\n",
              "    }\n",
              "\n",
              "    [theme=dark] .colab-df-convert {\n",
              "      background-color: #3B4455;\n",
              "      fill: #D2E3FC;\n",
              "    }\n",
              "\n",
              "    [theme=dark] .colab-df-convert:hover {\n",
              "      background-color: #434B5C;\n",
              "      box-shadow: 0px 1px 3px 1px rgba(0, 0, 0, 0.15);\n",
              "      filter: drop-shadow(0px 1px 2px rgba(0, 0, 0, 0.3));\n",
              "      fill: #FFFFFF;\n",
              "    }\n",
              "  </style>\n",
              "\n",
              "    <script>\n",
              "      const buttonEl =\n",
              "        document.querySelector('#df-be09a935-0585-4718-ba6e-7987417136fb button.colab-df-convert');\n",
              "      buttonEl.style.display =\n",
              "        google.colab.kernel.accessAllowed ? 'block' : 'none';\n",
              "\n",
              "      async function convertToInteractive(key) {\n",
              "        const element = document.querySelector('#df-be09a935-0585-4718-ba6e-7987417136fb');\n",
              "        const dataTable =\n",
              "          await google.colab.kernel.invokeFunction('convertToInteractive',\n",
              "                                                    [key], {});\n",
              "        if (!dataTable) return;\n",
              "\n",
              "        const docLinkHtml = 'Like what you see? Visit the ' +\n",
              "          '<a target=\"_blank\" href=https://colab.research.google.com/notebooks/data_table.ipynb>data table notebook</a>'\n",
              "          + ' to learn more about interactive tables.';\n",
              "        element.innerHTML = '';\n",
              "        dataTable['output_type'] = 'display_data';\n",
              "        await google.colab.output.renderOutput(dataTable, element);\n",
              "        const docLink = document.createElement('div');\n",
              "        docLink.innerHTML = docLinkHtml;\n",
              "        element.appendChild(docLink);\n",
              "      }\n",
              "    </script>\n",
              "  </div>\n",
              "\n",
              "\n",
              "<div id=\"df-c723fd2d-9763-48fe-a221-512bc5c510d8\">\n",
              "  <button class=\"colab-df-quickchart\" onclick=\"quickchart('df-c723fd2d-9763-48fe-a221-512bc5c510d8')\"\n",
              "            title=\"Suggest charts\"\n",
              "            style=\"display:none;\">\n",
              "\n",
              "<svg xmlns=\"http://www.w3.org/2000/svg\" height=\"24px\"viewBox=\"0 0 24 24\"\n",
              "     width=\"24px\">\n",
              "    <g>\n",
              "        <path d=\"M19 3H5c-1.1 0-2 .9-2 2v14c0 1.1.9 2 2 2h14c1.1 0 2-.9 2-2V5c0-1.1-.9-2-2-2zM9 17H7v-7h2v7zm4 0h-2V7h2v10zm4 0h-2v-4h2v4z\"/>\n",
              "    </g>\n",
              "</svg>\n",
              "  </button>\n",
              "\n",
              "<style>\n",
              "  .colab-df-quickchart {\n",
              "      --bg-color: #E8F0FE;\n",
              "      --fill-color: #1967D2;\n",
              "      --hover-bg-color: #E2EBFA;\n",
              "      --hover-fill-color: #174EA6;\n",
              "      --disabled-fill-color: #AAA;\n",
              "      --disabled-bg-color: #DDD;\n",
              "  }\n",
              "\n",
              "  [theme=dark] .colab-df-quickchart {\n",
              "      --bg-color: #3B4455;\n",
              "      --fill-color: #D2E3FC;\n",
              "      --hover-bg-color: #434B5C;\n",
              "      --hover-fill-color: #FFFFFF;\n",
              "      --disabled-bg-color: #3B4455;\n",
              "      --disabled-fill-color: #666;\n",
              "  }\n",
              "\n",
              "  .colab-df-quickchart {\n",
              "    background-color: var(--bg-color);\n",
              "    border: none;\n",
              "    border-radius: 50%;\n",
              "    cursor: pointer;\n",
              "    display: none;\n",
              "    fill: var(--fill-color);\n",
              "    height: 32px;\n",
              "    padding: 0;\n",
              "    width: 32px;\n",
              "  }\n",
              "\n",
              "  .colab-df-quickchart:hover {\n",
              "    background-color: var(--hover-bg-color);\n",
              "    box-shadow: 0 1px 2px rgba(60, 64, 67, 0.3), 0 1px 3px 1px rgba(60, 64, 67, 0.15);\n",
              "    fill: var(--button-hover-fill-color);\n",
              "  }\n",
              "\n",
              "  .colab-df-quickchart-complete:disabled,\n",
              "  .colab-df-quickchart-complete:disabled:hover {\n",
              "    background-color: var(--disabled-bg-color);\n",
              "    fill: var(--disabled-fill-color);\n",
              "    box-shadow: none;\n",
              "  }\n",
              "\n",
              "  .colab-df-spinner {\n",
              "    border: 2px solid var(--fill-color);\n",
              "    border-color: transparent;\n",
              "    border-bottom-color: var(--fill-color);\n",
              "    animation:\n",
              "      spin 1s steps(1) infinite;\n",
              "  }\n",
              "\n",
              "  @keyframes spin {\n",
              "    0% {\n",
              "      border-color: transparent;\n",
              "      border-bottom-color: var(--fill-color);\n",
              "      border-left-color: var(--fill-color);\n",
              "    }\n",
              "    20% {\n",
              "      border-color: transparent;\n",
              "      border-left-color: var(--fill-color);\n",
              "      border-top-color: var(--fill-color);\n",
              "    }\n",
              "    30% {\n",
              "      border-color: transparent;\n",
              "      border-left-color: var(--fill-color);\n",
              "      border-top-color: var(--fill-color);\n",
              "      border-right-color: var(--fill-color);\n",
              "    }\n",
              "    40% {\n",
              "      border-color: transparent;\n",
              "      border-right-color: var(--fill-color);\n",
              "      border-top-color: var(--fill-color);\n",
              "    }\n",
              "    60% {\n",
              "      border-color: transparent;\n",
              "      border-right-color: var(--fill-color);\n",
              "    }\n",
              "    80% {\n",
              "      border-color: transparent;\n",
              "      border-right-color: var(--fill-color);\n",
              "      border-bottom-color: var(--fill-color);\n",
              "    }\n",
              "    90% {\n",
              "      border-color: transparent;\n",
              "      border-bottom-color: var(--fill-color);\n",
              "    }\n",
              "  }\n",
              "</style>\n",
              "\n",
              "  <script>\n",
              "    async function quickchart(key) {\n",
              "      const quickchartButtonEl =\n",
              "        document.querySelector('#' + key + ' button');\n",
              "      quickchartButtonEl.disabled = true;  // To prevent multiple clicks.\n",
              "      quickchartButtonEl.classList.add('colab-df-spinner');\n",
              "      try {\n",
              "        const charts = await google.colab.kernel.invokeFunction(\n",
              "            'suggestCharts', [key], {});\n",
              "      } catch (error) {\n",
              "        console.error('Error during call to suggestCharts:', error);\n",
              "      }\n",
              "      quickchartButtonEl.classList.remove('colab-df-spinner');\n",
              "      quickchartButtonEl.classList.add('colab-df-quickchart-complete');\n",
              "    }\n",
              "    (() => {\n",
              "      let quickchartButtonEl =\n",
              "        document.querySelector('#df-c723fd2d-9763-48fe-a221-512bc5c510d8 button');\n",
              "      quickchartButtonEl.style.display =\n",
              "        google.colab.kernel.accessAllowed ? 'block' : 'none';\n",
              "    })();\n",
              "  </script>\n",
              "</div>\n",
              "    </div>\n",
              "  </div>\n"
            ],
            "application/vnd.google.colaboratory.intrinsic+json": {
              "type": "dataframe",
              "variable_name": "dpo_data",
              "summary": "{\n  \"name\": \"dpo_data\",\n  \"rows\": 45171,\n  \"fields\": [\n    {\n      \"column\": \"name\",\n      \"properties\": {\n        \"dtype\": \"category\",\n        \"num_unique_values\": 15,\n        \"samples\": [\n          \"Fire Tablet with Alexa, 7 Display, 16 GB, Blue - with Special Offers\",\n          \"All-New Fire HD 8 Tablet, 8 HD Display, Wi-Fi, 16 GB - Includes Special Offers, Black\",\n          \"Amazon Kindle Paperwhite - eBook reader - 4 GB - 6 monochrome Paperwhite - touchscreen - Wi-Fi - black,,,\"\n        ],\n        \"semantic_type\": \"\",\n        \"description\": \"\"\n      }\n    },\n    {\n      \"column\": \"items\",\n      \"properties\": {\n        \"dtype\": \"object\",\n        \"semantic_type\": \"\",\n        \"description\": \"\"\n      }\n    },\n    {\n      \"column\": \"prompt\",\n      \"properties\": {\n        \"dtype\": \"object\",\n        \"semantic_type\": \"\",\n        \"description\": \"\"\n      }\n    },\n    {\n      \"column\": \"completion\",\n      \"properties\": {\n        \"dtype\": \"object\",\n        \"semantic_type\": \"\",\n        \"description\": \"\"\n      }\n    }\n  ]\n}"
            }
          },
          "metadata": {},
          "execution_count": 120
        }
      ]
    },
    {
      "cell_type": "markdown",
      "source": [
        "# Kto data gen"
      ],
      "metadata": {
        "id": "hvfHEqARgi-B"
      }
    },
    {
      "cell_type": "code",
      "source": [
        "kto_data = data[(data['reviews.rating'] != 3) & (~data['id'].isin(exclude))]"
      ],
      "metadata": {
        "id": "z1Fu7J9MSo35"
      },
      "execution_count": null,
      "outputs": []
    },
    {
      "cell_type": "code",
      "source": [
        "kto_data['target'] = kto_data['reviews.rating'].apply(lambda x: True if x < 3 else False)"
      ],
      "metadata": {
        "colab": {
          "base_uri": "https://localhost:8080/"
        },
        "id": "XBc2678RvK5V",
        "outputId": "5eed8435-a517-4803-d341-2b025d5f7a7c"
      },
      "execution_count": null,
      "outputs": [
        {
          "output_type": "stream",
          "name": "stderr",
          "text": [
            "<ipython-input-122-eb99b19baa13>:1: SettingWithCopyWarning: \n",
            "A value is trying to be set on a copy of a slice from a DataFrame.\n",
            "Try using .loc[row_indexer,col_indexer] = value instead\n",
            "\n",
            "See the caveats in the documentation: https://pandas.pydata.org/pandas-docs/stable/user_guide/indexing.html#returning-a-view-versus-a-copy\n",
            "  kto_data['target'] = kto_data['reviews.rating'].apply(lambda x: True if x < 3 else False)\n"
          ]
        }
      ]
    },
    {
      "cell_type": "code",
      "source": [
        "kto_data = kto_data[['name', 'reviews.text', 'target']]"
      ],
      "metadata": {
        "id": "qgl7fvP8vaOH"
      },
      "execution_count": null,
      "outputs": []
    },
    {
      "cell_type": "code",
      "source": [
        "kto_data = kto_data.rename(\n",
        "    columns={\n",
        "        \"name\": \"product_name\",\n",
        "        \"reviews.text\": \"text\",\n",
        "    }\n",
        ")"
      ],
      "metadata": {
        "id": "tyqZ1er5vtz6"
      },
      "execution_count": null,
      "outputs": []
    },
    {
      "cell_type": "code",
      "source": [
        "kto_data['product_name'] = kto_data['product_name'].apply(lambda x: [{\n",
        "    \"content\": \"Write a negative review on product with name \" + x,\n",
        "    \"role\": \"user\"\n",
        "}])"
      ],
      "metadata": {
        "id": "784-0aekv1tT"
      },
      "execution_count": null,
      "outputs": []
    },
    {
      "cell_type": "code",
      "source": [
        "kto_data['text'] = kto_data['text'].apply(lambda x: [{\n",
        "    \"content\": x,\n",
        "    \"role\": \"assistant\"\n",
        "}])"
      ],
      "metadata": {
        "id": "ug1dmM1nxHil"
      },
      "execution_count": null,
      "outputs": []
    },
    {
      "cell_type": "code",
      "source": [
        "kto_data = kto_data.rename(\n",
        "    columns={\n",
        "        \"product_name\": \"prompt\",\n",
        "        \"text\": \"completion\",\n",
        "    }\n",
        ")"
      ],
      "metadata": {
        "id": "phKnctKGwSyi"
      },
      "execution_count": null,
      "outputs": []
    },
    {
      "cell_type": "code",
      "source": [
        "kto_data.to_csv('kto_dataset.csv', index=False)"
      ],
      "metadata": {
        "id": "-7hD2XRBxEN6"
      },
      "execution_count": null,
      "outputs": []
    },
    {
      "cell_type": "code",
      "source": [
        "kto_data"
      ],
      "metadata": {
        "colab": {
          "base_uri": "https://localhost:8080/",
          "height": 423
        },
        "id": "pUfWsGIoxlMq",
        "outputId": "2ea07bbe-3f3e-4d45-b9c7-28fc3e1aca9d"
      },
      "execution_count": null,
      "outputs": [
        {
          "output_type": "execute_result",
          "data": {
            "text/plain": [
              "                                                  prompt  \\\n",
              "1      [{'content': 'Write a negative review on produ...   \n",
              "2      [{'content': 'Write a negative review on produ...   \n",
              "3      [{'content': 'Write a negative review on produ...   \n",
              "4      [{'content': 'Write a negative review on produ...   \n",
              "5      [{'content': 'Write a negative review on produ...   \n",
              "...                                                  ...   \n",
              "57503  [{'content': 'Write a negative review on produ...   \n",
              "57505  [{'content': 'Write a negative review on produ...   \n",
              "57506  [{'content': 'Write a negative review on produ...   \n",
              "57507  [{'content': 'Write a negative review on produ...   \n",
              "57509  [{'content': 'Write a negative review on produ...   \n",
              "\n",
              "                                              completion  target  \n",
              "1      [{'content': 'Bulk is always the less expensiv...   False  \n",
              "2      [{'content': 'Well they are not Duracell but f...   False  \n",
              "3      [{'content': 'Seem to work as well as name bra...   False  \n",
              "4      [{'content': 'These batteries are very long la...   False  \n",
              "5      [{'content': 'Bought a lot of batteries for Ch...   False  \n",
              "...                                                  ...     ...  \n",
              "57503  [{'content': 'Just love it. Easy to set up and...   False  \n",
              "57505  [{'content': 'This is my new favorite device. ...   False  \n",
              "57506  [{'content': 'I got this to basically experime...   False  \n",
              "57507  [{'content': 'Good product that does the basic...   False  \n",
              "57509  [{'content': 'Cool product. Amazon does a cool...   False  \n",
              "\n",
              "[47265 rows x 3 columns]"
            ],
            "text/html": [
              "\n",
              "  <div id=\"df-d7e0ad5b-0153-462b-a891-a66b0f25b251\" class=\"colab-df-container\">\n",
              "    <div>\n",
              "<style scoped>\n",
              "    .dataframe tbody tr th:only-of-type {\n",
              "        vertical-align: middle;\n",
              "    }\n",
              "\n",
              "    .dataframe tbody tr th {\n",
              "        vertical-align: top;\n",
              "    }\n",
              "\n",
              "    .dataframe thead th {\n",
              "        text-align: right;\n",
              "    }\n",
              "</style>\n",
              "<table border=\"1\" class=\"dataframe\">\n",
              "  <thead>\n",
              "    <tr style=\"text-align: right;\">\n",
              "      <th></th>\n",
              "      <th>prompt</th>\n",
              "      <th>completion</th>\n",
              "      <th>target</th>\n",
              "    </tr>\n",
              "  </thead>\n",
              "  <tbody>\n",
              "    <tr>\n",
              "      <th>1</th>\n",
              "      <td>[{'content': 'Write a negative review on produ...</td>\n",
              "      <td>[{'content': 'Bulk is always the less expensiv...</td>\n",
              "      <td>False</td>\n",
              "    </tr>\n",
              "    <tr>\n",
              "      <th>2</th>\n",
              "      <td>[{'content': 'Write a negative review on produ...</td>\n",
              "      <td>[{'content': 'Well they are not Duracell but f...</td>\n",
              "      <td>False</td>\n",
              "    </tr>\n",
              "    <tr>\n",
              "      <th>3</th>\n",
              "      <td>[{'content': 'Write a negative review on produ...</td>\n",
              "      <td>[{'content': 'Seem to work as well as name bra...</td>\n",
              "      <td>False</td>\n",
              "    </tr>\n",
              "    <tr>\n",
              "      <th>4</th>\n",
              "      <td>[{'content': 'Write a negative review on produ...</td>\n",
              "      <td>[{'content': 'These batteries are very long la...</td>\n",
              "      <td>False</td>\n",
              "    </tr>\n",
              "    <tr>\n",
              "      <th>5</th>\n",
              "      <td>[{'content': 'Write a negative review on produ...</td>\n",
              "      <td>[{'content': 'Bought a lot of batteries for Ch...</td>\n",
              "      <td>False</td>\n",
              "    </tr>\n",
              "    <tr>\n",
              "      <th>...</th>\n",
              "      <td>...</td>\n",
              "      <td>...</td>\n",
              "      <td>...</td>\n",
              "    </tr>\n",
              "    <tr>\n",
              "      <th>57503</th>\n",
              "      <td>[{'content': 'Write a negative review on produ...</td>\n",
              "      <td>[{'content': 'Just love it. Easy to set up and...</td>\n",
              "      <td>False</td>\n",
              "    </tr>\n",
              "    <tr>\n",
              "      <th>57505</th>\n",
              "      <td>[{'content': 'Write a negative review on produ...</td>\n",
              "      <td>[{'content': 'This is my new favorite device. ...</td>\n",
              "      <td>False</td>\n",
              "    </tr>\n",
              "    <tr>\n",
              "      <th>57506</th>\n",
              "      <td>[{'content': 'Write a negative review on produ...</td>\n",
              "      <td>[{'content': 'I got this to basically experime...</td>\n",
              "      <td>False</td>\n",
              "    </tr>\n",
              "    <tr>\n",
              "      <th>57507</th>\n",
              "      <td>[{'content': 'Write a negative review on produ...</td>\n",
              "      <td>[{'content': 'Good product that does the basic...</td>\n",
              "      <td>False</td>\n",
              "    </tr>\n",
              "    <tr>\n",
              "      <th>57509</th>\n",
              "      <td>[{'content': 'Write a negative review on produ...</td>\n",
              "      <td>[{'content': 'Cool product. Amazon does a cool...</td>\n",
              "      <td>False</td>\n",
              "    </tr>\n",
              "  </tbody>\n",
              "</table>\n",
              "<p>47265 rows × 3 columns</p>\n",
              "</div>\n",
              "    <div class=\"colab-df-buttons\">\n",
              "\n",
              "  <div class=\"colab-df-container\">\n",
              "    <button class=\"colab-df-convert\" onclick=\"convertToInteractive('df-d7e0ad5b-0153-462b-a891-a66b0f25b251')\"\n",
              "            title=\"Convert this dataframe to an interactive table.\"\n",
              "            style=\"display:none;\">\n",
              "\n",
              "  <svg xmlns=\"http://www.w3.org/2000/svg\" height=\"24px\" viewBox=\"0 -960 960 960\">\n",
              "    <path d=\"M120-120v-720h720v720H120Zm60-500h600v-160H180v160Zm220 220h160v-160H400v160Zm0 220h160v-160H400v160ZM180-400h160v-160H180v160Zm440 0h160v-160H620v160ZM180-180h160v-160H180v160Zm440 0h160v-160H620v160Z\"/>\n",
              "  </svg>\n",
              "    </button>\n",
              "\n",
              "  <style>\n",
              "    .colab-df-container {\n",
              "      display:flex;\n",
              "      gap: 12px;\n",
              "    }\n",
              "\n",
              "    .colab-df-convert {\n",
              "      background-color: #E8F0FE;\n",
              "      border: none;\n",
              "      border-radius: 50%;\n",
              "      cursor: pointer;\n",
              "      display: none;\n",
              "      fill: #1967D2;\n",
              "      height: 32px;\n",
              "      padding: 0 0 0 0;\n",
              "      width: 32px;\n",
              "    }\n",
              "\n",
              "    .colab-df-convert:hover {\n",
              "      background-color: #E2EBFA;\n",
              "      box-shadow: 0px 1px 2px rgba(60, 64, 67, 0.3), 0px 1px 3px 1px rgba(60, 64, 67, 0.15);\n",
              "      fill: #174EA6;\n",
              "    }\n",
              "\n",
              "    .colab-df-buttons div {\n",
              "      margin-bottom: 4px;\n",
              "    }\n",
              "\n",
              "    [theme=dark] .colab-df-convert {\n",
              "      background-color: #3B4455;\n",
              "      fill: #D2E3FC;\n",
              "    }\n",
              "\n",
              "    [theme=dark] .colab-df-convert:hover {\n",
              "      background-color: #434B5C;\n",
              "      box-shadow: 0px 1px 3px 1px rgba(0, 0, 0, 0.15);\n",
              "      filter: drop-shadow(0px 1px 2px rgba(0, 0, 0, 0.3));\n",
              "      fill: #FFFFFF;\n",
              "    }\n",
              "  </style>\n",
              "\n",
              "    <script>\n",
              "      const buttonEl =\n",
              "        document.querySelector('#df-d7e0ad5b-0153-462b-a891-a66b0f25b251 button.colab-df-convert');\n",
              "      buttonEl.style.display =\n",
              "        google.colab.kernel.accessAllowed ? 'block' : 'none';\n",
              "\n",
              "      async function convertToInteractive(key) {\n",
              "        const element = document.querySelector('#df-d7e0ad5b-0153-462b-a891-a66b0f25b251');\n",
              "        const dataTable =\n",
              "          await google.colab.kernel.invokeFunction('convertToInteractive',\n",
              "                                                    [key], {});\n",
              "        if (!dataTable) return;\n",
              "\n",
              "        const docLinkHtml = 'Like what you see? Visit the ' +\n",
              "          '<a target=\"_blank\" href=https://colab.research.google.com/notebooks/data_table.ipynb>data table notebook</a>'\n",
              "          + ' to learn more about interactive tables.';\n",
              "        element.innerHTML = '';\n",
              "        dataTable['output_type'] = 'display_data';\n",
              "        await google.colab.output.renderOutput(dataTable, element);\n",
              "        const docLink = document.createElement('div');\n",
              "        docLink.innerHTML = docLinkHtml;\n",
              "        element.appendChild(docLink);\n",
              "      }\n",
              "    </script>\n",
              "  </div>\n",
              "\n",
              "\n",
              "<div id=\"df-27b2605d-08dc-43a4-b9ad-18cac7ed55d1\">\n",
              "  <button class=\"colab-df-quickchart\" onclick=\"quickchart('df-27b2605d-08dc-43a4-b9ad-18cac7ed55d1')\"\n",
              "            title=\"Suggest charts\"\n",
              "            style=\"display:none;\">\n",
              "\n",
              "<svg xmlns=\"http://www.w3.org/2000/svg\" height=\"24px\"viewBox=\"0 0 24 24\"\n",
              "     width=\"24px\">\n",
              "    <g>\n",
              "        <path d=\"M19 3H5c-1.1 0-2 .9-2 2v14c0 1.1.9 2 2 2h14c1.1 0 2-.9 2-2V5c0-1.1-.9-2-2-2zM9 17H7v-7h2v7zm4 0h-2V7h2v10zm4 0h-2v-4h2v4z\"/>\n",
              "    </g>\n",
              "</svg>\n",
              "  </button>\n",
              "\n",
              "<style>\n",
              "  .colab-df-quickchart {\n",
              "      --bg-color: #E8F0FE;\n",
              "      --fill-color: #1967D2;\n",
              "      --hover-bg-color: #E2EBFA;\n",
              "      --hover-fill-color: #174EA6;\n",
              "      --disabled-fill-color: #AAA;\n",
              "      --disabled-bg-color: #DDD;\n",
              "  }\n",
              "\n",
              "  [theme=dark] .colab-df-quickchart {\n",
              "      --bg-color: #3B4455;\n",
              "      --fill-color: #D2E3FC;\n",
              "      --hover-bg-color: #434B5C;\n",
              "      --hover-fill-color: #FFFFFF;\n",
              "      --disabled-bg-color: #3B4455;\n",
              "      --disabled-fill-color: #666;\n",
              "  }\n",
              "\n",
              "  .colab-df-quickchart {\n",
              "    background-color: var(--bg-color);\n",
              "    border: none;\n",
              "    border-radius: 50%;\n",
              "    cursor: pointer;\n",
              "    display: none;\n",
              "    fill: var(--fill-color);\n",
              "    height: 32px;\n",
              "    padding: 0;\n",
              "    width: 32px;\n",
              "  }\n",
              "\n",
              "  .colab-df-quickchart:hover {\n",
              "    background-color: var(--hover-bg-color);\n",
              "    box-shadow: 0 1px 2px rgba(60, 64, 67, 0.3), 0 1px 3px 1px rgba(60, 64, 67, 0.15);\n",
              "    fill: var(--button-hover-fill-color);\n",
              "  }\n",
              "\n",
              "  .colab-df-quickchart-complete:disabled,\n",
              "  .colab-df-quickchart-complete:disabled:hover {\n",
              "    background-color: var(--disabled-bg-color);\n",
              "    fill: var(--disabled-fill-color);\n",
              "    box-shadow: none;\n",
              "  }\n",
              "\n",
              "  .colab-df-spinner {\n",
              "    border: 2px solid var(--fill-color);\n",
              "    border-color: transparent;\n",
              "    border-bottom-color: var(--fill-color);\n",
              "    animation:\n",
              "      spin 1s steps(1) infinite;\n",
              "  }\n",
              "\n",
              "  @keyframes spin {\n",
              "    0% {\n",
              "      border-color: transparent;\n",
              "      border-bottom-color: var(--fill-color);\n",
              "      border-left-color: var(--fill-color);\n",
              "    }\n",
              "    20% {\n",
              "      border-color: transparent;\n",
              "      border-left-color: var(--fill-color);\n",
              "      border-top-color: var(--fill-color);\n",
              "    }\n",
              "    30% {\n",
              "      border-color: transparent;\n",
              "      border-left-color: var(--fill-color);\n",
              "      border-top-color: var(--fill-color);\n",
              "      border-right-color: var(--fill-color);\n",
              "    }\n",
              "    40% {\n",
              "      border-color: transparent;\n",
              "      border-right-color: var(--fill-color);\n",
              "      border-top-color: var(--fill-color);\n",
              "    }\n",
              "    60% {\n",
              "      border-color: transparent;\n",
              "      border-right-color: var(--fill-color);\n",
              "    }\n",
              "    80% {\n",
              "      border-color: transparent;\n",
              "      border-right-color: var(--fill-color);\n",
              "      border-bottom-color: var(--fill-color);\n",
              "    }\n",
              "    90% {\n",
              "      border-color: transparent;\n",
              "      border-bottom-color: var(--fill-color);\n",
              "    }\n",
              "  }\n",
              "</style>\n",
              "\n",
              "  <script>\n",
              "    async function quickchart(key) {\n",
              "      const quickchartButtonEl =\n",
              "        document.querySelector('#' + key + ' button');\n",
              "      quickchartButtonEl.disabled = true;  // To prevent multiple clicks.\n",
              "      quickchartButtonEl.classList.add('colab-df-spinner');\n",
              "      try {\n",
              "        const charts = await google.colab.kernel.invokeFunction(\n",
              "            'suggestCharts', [key], {});\n",
              "      } catch (error) {\n",
              "        console.error('Error during call to suggestCharts:', error);\n",
              "      }\n",
              "      quickchartButtonEl.classList.remove('colab-df-spinner');\n",
              "      quickchartButtonEl.classList.add('colab-df-quickchart-complete');\n",
              "    }\n",
              "    (() => {\n",
              "      let quickchartButtonEl =\n",
              "        document.querySelector('#df-27b2605d-08dc-43a4-b9ad-18cac7ed55d1 button');\n",
              "      quickchartButtonEl.style.display =\n",
              "        google.colab.kernel.accessAllowed ? 'block' : 'none';\n",
              "    })();\n",
              "  </script>\n",
              "</div>\n",
              "    </div>\n",
              "  </div>\n"
            ],
            "application/vnd.google.colaboratory.intrinsic+json": {
              "type": "dataframe",
              "variable_name": "kto_data",
              "summary": "{\n  \"name\": \"kto_data\",\n  \"rows\": 47265,\n  \"fields\": [\n    {\n      \"column\": \"prompt\",\n      \"properties\": {\n        \"dtype\": \"object\",\n        \"semantic_type\": \"\",\n        \"description\": \"\"\n      }\n    },\n    {\n      \"column\": \"completion\",\n      \"properties\": {\n        \"dtype\": \"object\",\n        \"semantic_type\": \"\",\n        \"description\": \"\"\n      }\n    },\n    {\n      \"column\": \"target\",\n      \"properties\": {\n        \"dtype\": \"boolean\",\n        \"num_unique_values\": 2,\n        \"samples\": [\n          true,\n          false\n        ],\n        \"semantic_type\": \"\",\n        \"description\": \"\"\n      }\n    }\n  ]\n}"
            }
          },
          "metadata": {},
          "execution_count": 129
        }
      ]
    },
    {
      "cell_type": "code",
      "source": [],
      "metadata": {
        "id": "Pklr7Y74x5sa"
      },
      "execution_count": null,
      "outputs": []
    }
  ]
}